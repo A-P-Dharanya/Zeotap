{
  "nbformat": 4,
  "nbformat_minor": 0,
  "metadata": {
    "colab": {
      "private_outputs": true,
      "provenance": [],
      "authorship_tag": "ABX9TyNyOckkXPaOa40RZ2LKqnaI",
      "include_colab_link": true
    },
    "kernelspec": {
      "name": "python3",
      "display_name": "Python 3"
    },
    "language_info": {
      "name": "python"
    }
  },
  "cells": [
    {
      "cell_type": "markdown",
      "metadata": {
        "id": "view-in-github",
        "colab_type": "text"
      },
      "source": [
        "<a href=\"https://colab.research.google.com/github/A-P-Dharanya/Zeotap/blob/main/DHARANYA_AP_Clustering.ipynb\" target=\"_parent\"><img src=\"https://colab.research.google.com/assets/colab-badge.svg\" alt=\"Open In Colab\"/></a>"
      ]
    },
    {
      "cell_type": "code",
      "execution_count": null,
      "metadata": {
        "id": "uYzRu6q6Q0dh"
      },
      "outputs": [],
      "source": [
        "#Task 3: Customer Segmentation / Clustering\n",
        "\n",
        "import pandas as pd\n",
        "import numpy as np\n",
        "from sklearn.cluster import KMeans\n",
        "from sklearn.preprocessing import StandardScaler\n",
        "from sklearn.decomposition import PCA\n",
        "from sklearn.metrics import silhouette_score\n",
        "from sklearn.metrics import davies_bouldin_score\n",
        "import matplotlib.pyplot as plt\n",
        "import seaborn as sns\n",
        "\n",
        "customers_df = pd.read_csv('/content/Customers.csv')\n",
        "transactions_df = pd.read_csv('/content/Transactions.csv')\n",
        "merged_data = pd.merge(transactions_df, customers_df, on='CustomerID', how='inner')\n",
        "\n",
        "customer_profile = merged_data.groupby('CustomerID').agg(\n",
        "    total_spend=('TotalValue', 'sum'),\n",
        "    purchase_count=('TotalValue', 'count'),\n",
        "    last_purchase_date=('TransactionDate', 'max')\n",
        ").reset_index()\n",
        "\n",
        "customer_profile['recency'] = (pd.to_datetime('today') - pd.to_datetime(customer_profile['last_purchase_date'])).dt.days\n",
        "customer_profile.drop(columns=['last_purchase_date'], inplace=True)\n",
        "\n",
        "scaler = StandardScaler()\n",
        "scaled_features = scaler.fit_transform(customer_profile[['total_spend', 'purchase_count', 'recency']])\n",
        "\n",
        "# Elbow Method\n",
        "wcss = []\n",
        "for i in range(2, 11):\n",
        "    kmeans = KMeans(n_clusters=i, init='k-means++', max_iter=300, n_init=10, random_state=42)\n",
        "    kmeans.fit(scaled_features)\n",
        "    wcss.append(kmeans.inertia_)\n",
        "plt.figure(figsize=(8,6))\n",
        "plt.plot(range(2, 11), wcss, marker='o')\n",
        "plt.title('Elbow Method for Optimal Clusters')\n",
        "plt.xlabel('Number of Clusters')\n",
        "plt.ylabel('WCSS (Within-Cluster Sum of Squares)')\n",
        "plt.show()\n",
        "optimal_clusters = 4\n",
        "kmeans = KMeans(n_clusters=optimal_clusters, init='k-means++', max_iter=300, n_init=10, random_state=42)\n",
        "customer_profile['Cluster'] = kmeans.fit_predict(scaled_features)\n",
        "db_index = davies_bouldin_score(scaled_features, customer_profile['Cluster'])\n",
        "silhouette_avg = silhouette_score(scaled_features, customer_profile['Cluster'])\n",
        "print(f\"Optimal Number of Clusters: {optimal_clusters}\")\n",
        "print(f\"Davies-Bouldin Index: {db_index}\")\n",
        "print(f\"Silhouette Score: {silhouette_avg}\")\n",
        "\n",
        "# Visualization of the Clusters\n",
        "pca = PCA(n_components=2)\n",
        "pca_components = pca.fit_transform(scaled_features)\n",
        "\n",
        "plt.figure(figsize=(8,6))\n",
        "sns.scatterplot(x=pca_components[:,0], y=pca_components[:,1], hue=customer_profile['Cluster'], palette='Set1', s=100, alpha=0.7)\n",
        "plt.title('Customer Segments Visualized with PCA')\n",
        "plt.xlabel('PCA Component 1')\n",
        "plt.ylabel('PCA Component 2')\n",
        "plt.show()\n",
        "centers_pca = pca.transform(kmeans.cluster_centers_)\n",
        "plt.figure(figsize=(8,6))\n",
        "sns.scatterplot(x=pca_components[:,0], y=pca_components[:,1], hue=customer_profile['Cluster'], palette='Set1', s=100, alpha=0.7)\n",
        "sns.scatterplot(x=centers_pca[:,0], y=centers_pca[:,1], s=200, color='black', marker='X', label='Centroids')\n",
        "plt.title('Clusters and Their Centroids in PCA Space')\n",
        "plt.xlabel('PCA Component 1')\n",
        "plt.ylabel('PCA Component 2')\n",
        "plt.legend()\n",
        "plt.show()\n"
      ]
    }
  ]
}