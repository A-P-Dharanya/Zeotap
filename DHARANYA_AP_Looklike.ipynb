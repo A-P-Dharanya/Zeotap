{
  "nbformat": 4,
  "nbformat_minor": 0,
  "metadata": {
    "colab": {
      "private_outputs": true,
      "provenance": [],
      "authorship_tag": "ABX9TyPxggPXDj2fQ/b+jQZHr8+2",
      "include_colab_link": true
    },
    "kernelspec": {
      "name": "python3",
      "display_name": "Python 3"
    },
    "language_info": {
      "name": "python"
    }
  },
  "cells": [
    {
      "cell_type": "markdown",
      "metadata": {
        "id": "view-in-github",
        "colab_type": "text"
      },
      "source": [
        "<a href=\"https://colab.research.google.com/github/A-P-Dharanya/Zeotap/blob/main/DHARANYA_AP_EDA.ipynb\" target=\"_parent\"><img src=\"https://colab.research.google.com/assets/colab-badge.svg\" alt=\"Open In Colab\"/></a>"
      ]
    },
    {
      "cell_type": "code",
      "execution_count": null,
      "metadata": {
        "id": "I9I9Hn-XQv-4"
      },
      "outputs": [],
      "source": [
        "#Task 2: Lookalike Model\n",
        "\n",
        "import pandas as pd\n",
        "import numpy as np\n",
        "from sklearn.preprocessing import StandardScaler\n",
        "from sklearn.metrics.pairwise import cosine_similarity\n",
        "\n",
        "customers_df = pd.read_csv('/content/Customers.csv')\n",
        "products_df = pd.read_csv('/content/Products.csv')\n",
        "transactions_df = pd.read_csv('/content/Transactions.csv')\n",
        "\n",
        "# 1. Data Preprocessing\n",
        "merged_data = pd.merge(transactions_df, customers_df, on='CustomerID', how='inner')\n",
        "merged_data = pd.merge(merged_data, products_df, on='ProductID', how='inner')\n",
        "\n",
        "# 2. Feature Engineering\n",
        "customer_profile = merged_data.groupby('CustomerID').agg(\n",
        "    total_spend=('TotalValue', 'sum'),\n",
        "    purchase_count=('TotalValue', 'count'),\n",
        "    last_purchase_date=('TransactionDate', 'max')\n",
        ").reset_index()\n",
        "customer_profile['recency'] = (pd.to_datetime('today') - pd.to_datetime(customer_profile['last_purchase_date'])).dt.days\n",
        "customer_profile.drop(columns=['last_purchase_date'], inplace=True)\n",
        "\n",
        "scaler = StandardScaler()\n",
        "customer_profile_scaled = scaler.fit_transform(customer_profile[['total_spend', 'purchase_count', 'recency']])\n",
        "\n",
        "# 3. Calculate Cosine Similarity between customers\n",
        "cos_sim_matrix = cosine_similarity(customer_profile_scaled)\n",
        "\n",
        "# 4. Build the Lookalike Model for the first 20 customers (C0001 - C0020)\n",
        "lookalike_map = {}\n",
        "\n",
        "for i in range(20):  # For CustomerID C0001 to C0020\n",
        "    customer_id = f'C{i+1:04d}'\n",
        "    customer_index = customer_profile[customer_profile['CustomerID'] == customer_id].index[0]\n",
        "\n",
        "    similarity_scores = cos_sim_matrix[customer_index]\n",
        "    similar_customers = sorted(zip(customer_profile['CustomerID'], similarity_scores), key=lambda x: x[1], reverse=True)[1:4]\n",
        "    lookalike_map[customer_id] = [(cust_id, score) for cust_id, score in similar_customers]\n",
        "\n",
        "# 5. Save the Lookalike recommendations to a CSV\n",
        "lookalike_df = []\n",
        "for cust_id, recommendations in lookalike_map.items():\n",
        "    for rec in recommendations:\n",
        "        lookalike_df.append([cust_id, rec[0], rec[1]])\n",
        "\n",
        "lookalike_df = pd.DataFrame(lookalike_df, columns=['CustomerID', 'RecommendedCustomerID', 'SimilarityScore'])\n",
        "lookalike_df.to_csv('Lookalike.csv', index=False)\n",
        "\n",
        "#Top 3 lookalikes for each customer (C0001 - C0020)\n",
        "print(lookalike_map)\n"
      ]
    }
  ]
}
